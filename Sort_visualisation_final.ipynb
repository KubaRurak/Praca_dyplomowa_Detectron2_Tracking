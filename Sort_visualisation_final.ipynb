{
  "nbformat": 4,
  "nbformat_minor": 0,
  "metadata": {
    "colab": {
      "name": "Sort_visualisation_22092021_(1) (1).ipynb",
      "provenance": [],
      "collapsed_sections": []
    },
    "kernelspec": {
      "name": "python3",
      "display_name": "Python 3"
    },
    "language_info": {
      "name": "python"
    },
    "accelerator": "GPU"
  },
  "cells": [
    {
      "cell_type": "markdown",
      "metadata": {
        "id": "XPRca1M4c6EG"
      },
      "source": [
        "# Instalacja detectronu 2"
      ]
    },
    {
      "cell_type": "code",
      "metadata": {
        "colab": {
          "base_uri": "https://localhost:8080/",
          "height": 902
        },
        "id": "3deRkoEcc0DI",
        "outputId": "15856d2b-4c46-4183-9d17-1c9ccfd15dce"
      },
      "source": [
        "!pip install -U torch torchvision\n",
        "!pip install git+https://github.com/facebookresearch/fvcore.git\n",
        "import torch, torchvision\n",
        "torch.__version__"
      ],
      "execution_count": 2,
      "outputs": [
        {
          "output_type": "stream",
          "name": "stdout",
          "text": [
            "Requirement already satisfied: torch in /usr/local/lib/python3.7/dist-packages (1.9.0+cu102)\n",
            "Collecting torch\n",
            "  Downloading torch-1.9.1-cp37-cp37m-manylinux1_x86_64.whl (831.4 MB)\n",
            "\u001b[K     |████████████████████████████████| 831.4 MB 6.9 kB/s \n",
            "\u001b[?25hRequirement already satisfied: torchvision in /usr/local/lib/python3.7/dist-packages (0.10.0+cu102)\n",
            "Collecting torchvision\n",
            "  Downloading torchvision-0.10.1-cp37-cp37m-manylinux1_x86_64.whl (22.1 MB)\n",
            "\u001b[K     |████████████████████████████████| 22.1 MB 1.5 MB/s \n",
            "\u001b[?25hRequirement already satisfied: typing-extensions in /usr/local/lib/python3.7/dist-packages (from torch) (3.7.4.3)\n",
            "Requirement already satisfied: pillow>=5.3.0 in /usr/local/lib/python3.7/dist-packages (from torchvision) (7.1.2)\n",
            "Requirement already satisfied: numpy in /usr/local/lib/python3.7/dist-packages (from torchvision) (1.19.5)\n",
            "Installing collected packages: torch, torchvision\n",
            "  Attempting uninstall: torch\n",
            "    Found existing installation: torch 1.9.0+cu102\n",
            "    Uninstalling torch-1.9.0+cu102:\n",
            "      Successfully uninstalled torch-1.9.0+cu102\n",
            "  Attempting uninstall: torchvision\n",
            "    Found existing installation: torchvision 0.10.0+cu102\n",
            "    Uninstalling torchvision-0.10.0+cu102:\n",
            "      Successfully uninstalled torchvision-0.10.0+cu102\n",
            "\u001b[31mERROR: pip's dependency resolver does not currently take into account all the packages that are installed. This behaviour is the source of the following dependency conflicts.\n",
            "torchtext 0.10.0 requires torch==1.9.0, but you have torch 1.9.1 which is incompatible.\u001b[0m\n",
            "Successfully installed torch-1.9.1 torchvision-0.10.1\n",
            "Collecting git+https://github.com/facebookresearch/fvcore.git\n",
            "  Cloning https://github.com/facebookresearch/fvcore.git to /tmp/pip-req-build-mpoxxw8l\n",
            "  Running command git clone -q https://github.com/facebookresearch/fvcore.git /tmp/pip-req-build-mpoxxw8l\n",
            "Requirement already satisfied: numpy in /usr/local/lib/python3.7/dist-packages (from fvcore==0.1.5) (1.19.5)\n",
            "Collecting yacs>=0.1.6\n",
            "  Downloading yacs-0.1.8-py3-none-any.whl (14 kB)\n",
            "Collecting pyyaml>=5.1\n",
            "  Downloading PyYAML-5.4.1-cp37-cp37m-manylinux1_x86_64.whl (636 kB)\n",
            "\u001b[K     |████████████████████████████████| 636 kB 6.6 MB/s \n",
            "\u001b[?25hRequirement already satisfied: tqdm in /usr/local/lib/python3.7/dist-packages (from fvcore==0.1.5) (4.62.2)\n",
            "Requirement already satisfied: termcolor>=1.1 in /usr/local/lib/python3.7/dist-packages (from fvcore==0.1.5) (1.1.0)\n",
            "Requirement already satisfied: Pillow in /usr/local/lib/python3.7/dist-packages (from fvcore==0.1.5) (7.1.2)\n",
            "Requirement already satisfied: tabulate in /usr/local/lib/python3.7/dist-packages (from fvcore==0.1.5) (0.8.9)\n",
            "Collecting iopath>=0.1.7\n",
            "  Downloading iopath-0.1.9-py3-none-any.whl (27 kB)\n",
            "Collecting portalocker\n",
            "  Downloading portalocker-2.3.2-py2.py3-none-any.whl (15 kB)\n",
            "Building wheels for collected packages: fvcore\n",
            "  Building wheel for fvcore (setup.py) ... \u001b[?25l\u001b[?25hdone\n",
            "  Created wheel for fvcore: filename=fvcore-0.1.5-py3-none-any.whl size=64675 sha256=30551de767482815f97e69f2b62b84164b7eb9ffe133c975427766c602bd53da\n",
            "  Stored in directory: /tmp/pip-ephem-wheel-cache-nydwwn4i/wheels/24/1d/09/8167de727fe5b74f832b6fcb5d9069d8f03ca29f337bfe484d\n",
            "Successfully built fvcore\n",
            "Installing collected packages: pyyaml, portalocker, yacs, iopath, fvcore\n",
            "  Attempting uninstall: pyyaml\n",
            "    Found existing installation: PyYAML 3.13\n",
            "    Uninstalling PyYAML-3.13:\n",
            "      Successfully uninstalled PyYAML-3.13\n",
            "Successfully installed fvcore-0.1.5 iopath-0.1.9 portalocker-2.3.2 pyyaml-5.4.1 yacs-0.1.8\n"
          ]
        },
        {
          "output_type": "execute_result",
          "data": {
            "application/vnd.google.colaboratory.intrinsic+json": {
              "type": "string"
            },
            "text/plain": [
              "'1.9.1+cu102'"
            ]
          },
          "metadata": {},
          "execution_count": 2
        }
      ]
    },
    {
      "cell_type": "code",
      "metadata": {
        "id": "rF-_WYXlc2UQ",
        "colab": {
          "base_uri": "https://localhost:8080/"
        },
        "outputId": "fb9a6ec8-d4fa-45b6-f001-ea1a6eeba843"
      },
      "source": [
        "#Sort algorithm req\n",
        "!pip install filterpy==1.4.5\n",
        "!pip install scikit-image==0.17.2\n",
        "!pip install lap==0.4.0"
      ],
      "execution_count": 3,
      "outputs": [
        {
          "output_type": "stream",
          "name": "stdout",
          "text": [
            "Collecting filterpy==1.4.5\n",
            "  Downloading filterpy-1.4.5.zip (177 kB)\n",
            "\u001b[?25l\r\u001b[K     |█▉                              | 10 kB 21.8 MB/s eta 0:00:01\r\u001b[K     |███▊                            | 20 kB 10.6 MB/s eta 0:00:01\r\u001b[K     |█████▌                          | 30 kB 8.5 MB/s eta 0:00:01\r\u001b[K     |███████▍                        | 40 kB 7.9 MB/s eta 0:00:01\r\u001b[K     |█████████▏                      | 51 kB 5.2 MB/s eta 0:00:01\r\u001b[K     |███████████                     | 61 kB 5.8 MB/s eta 0:00:01\r\u001b[K     |████████████▉                   | 71 kB 5.6 MB/s eta 0:00:01\r\u001b[K     |██████████████▊                 | 81 kB 6.3 MB/s eta 0:00:01\r\u001b[K     |████████████████▋               | 92 kB 6.1 MB/s eta 0:00:01\r\u001b[K     |██████████████████▍             | 102 kB 5.4 MB/s eta 0:00:01\r\u001b[K     |████████████████████▎           | 112 kB 5.4 MB/s eta 0:00:01\r\u001b[K     |██████████████████████          | 122 kB 5.4 MB/s eta 0:00:01\r\u001b[K     |████████████████████████        | 133 kB 5.4 MB/s eta 0:00:01\r\u001b[K     |█████████████████████████▊      | 143 kB 5.4 MB/s eta 0:00:01\r\u001b[K     |███████████████████████████▋    | 153 kB 5.4 MB/s eta 0:00:01\r\u001b[K     |█████████████████████████████▌  | 163 kB 5.4 MB/s eta 0:00:01\r\u001b[K     |███████████████████████████████▎| 174 kB 5.4 MB/s eta 0:00:01\r\u001b[K     |████████████████████████████████| 177 kB 5.4 MB/s \n",
            "\u001b[?25hRequirement already satisfied: numpy in /usr/local/lib/python3.7/dist-packages (from filterpy==1.4.5) (1.19.5)\n",
            "Requirement already satisfied: scipy in /usr/local/lib/python3.7/dist-packages (from filterpy==1.4.5) (1.4.1)\n",
            "Requirement already satisfied: matplotlib in /usr/local/lib/python3.7/dist-packages (from filterpy==1.4.5) (3.2.2)\n",
            "Requirement already satisfied: kiwisolver>=1.0.1 in /usr/local/lib/python3.7/dist-packages (from matplotlib->filterpy==1.4.5) (1.3.2)\n",
            "Requirement already satisfied: python-dateutil>=2.1 in /usr/local/lib/python3.7/dist-packages (from matplotlib->filterpy==1.4.5) (2.8.2)\n",
            "Requirement already satisfied: pyparsing!=2.0.4,!=2.1.2,!=2.1.6,>=2.0.1 in /usr/local/lib/python3.7/dist-packages (from matplotlib->filterpy==1.4.5) (2.4.7)\n",
            "Requirement already satisfied: cycler>=0.10 in /usr/local/lib/python3.7/dist-packages (from matplotlib->filterpy==1.4.5) (0.10.0)\n",
            "Requirement already satisfied: six in /usr/local/lib/python3.7/dist-packages (from cycler>=0.10->matplotlib->filterpy==1.4.5) (1.15.0)\n",
            "Building wheels for collected packages: filterpy\n",
            "  Building wheel for filterpy (setup.py) ... \u001b[?25l\u001b[?25hdone\n",
            "  Created wheel for filterpy: filename=filterpy-1.4.5-py3-none-any.whl size=110474 sha256=14d45f038490487c0e2e4f6c034250f7eb4c45a56f3ce80fb7dc1288d6cf0364\n",
            "  Stored in directory: /root/.cache/pip/wheels/ce/e0/ee/a2b3c5caab3418c1ccd8c4de573d4cbe13315d7e8b0a55fbc2\n",
            "Successfully built filterpy\n",
            "Installing collected packages: filterpy\n",
            "Successfully installed filterpy-1.4.5\n",
            "Collecting scikit-image==0.17.2\n",
            "  Downloading scikit_image-0.17.2-cp37-cp37m-manylinux1_x86_64.whl (12.5 MB)\n",
            "\u001b[K     |████████████████████████████████| 12.5 MB 16 kB/s \n",
            "\u001b[?25hRequirement already satisfied: matplotlib!=3.0.0,>=2.0.0 in /usr/local/lib/python3.7/dist-packages (from scikit-image==0.17.2) (3.2.2)\n",
            "Requirement already satisfied: networkx>=2.0 in /usr/local/lib/python3.7/dist-packages (from scikit-image==0.17.2) (2.6.3)\n",
            "Requirement already satisfied: numpy>=1.15.1 in /usr/local/lib/python3.7/dist-packages (from scikit-image==0.17.2) (1.19.5)\n",
            "Requirement already satisfied: imageio>=2.3.0 in /usr/local/lib/python3.7/dist-packages (from scikit-image==0.17.2) (2.4.1)\n",
            "Requirement already satisfied: PyWavelets>=1.1.1 in /usr/local/lib/python3.7/dist-packages (from scikit-image==0.17.2) (1.1.1)\n",
            "Requirement already satisfied: tifffile>=2019.7.26 in /usr/local/lib/python3.7/dist-packages (from scikit-image==0.17.2) (2021.8.30)\n",
            "Requirement already satisfied: pillow!=7.1.0,!=7.1.1,>=4.3.0 in /usr/local/lib/python3.7/dist-packages (from scikit-image==0.17.2) (7.1.2)\n",
            "Requirement already satisfied: scipy>=1.0.1 in /usr/local/lib/python3.7/dist-packages (from scikit-image==0.17.2) (1.4.1)\n",
            "Requirement already satisfied: python-dateutil>=2.1 in /usr/local/lib/python3.7/dist-packages (from matplotlib!=3.0.0,>=2.0.0->scikit-image==0.17.2) (2.8.2)\n",
            "Requirement already satisfied: cycler>=0.10 in /usr/local/lib/python3.7/dist-packages (from matplotlib!=3.0.0,>=2.0.0->scikit-image==0.17.2) (0.10.0)\n",
            "Requirement already satisfied: pyparsing!=2.0.4,!=2.1.2,!=2.1.6,>=2.0.1 in /usr/local/lib/python3.7/dist-packages (from matplotlib!=3.0.0,>=2.0.0->scikit-image==0.17.2) (2.4.7)\n",
            "Requirement already satisfied: kiwisolver>=1.0.1 in /usr/local/lib/python3.7/dist-packages (from matplotlib!=3.0.0,>=2.0.0->scikit-image==0.17.2) (1.3.2)\n",
            "Requirement already satisfied: six in /usr/local/lib/python3.7/dist-packages (from cycler>=0.10->matplotlib!=3.0.0,>=2.0.0->scikit-image==0.17.2) (1.15.0)\n",
            "Installing collected packages: scikit-image\n",
            "  Attempting uninstall: scikit-image\n",
            "    Found existing installation: scikit-image 0.16.2\n",
            "    Uninstalling scikit-image-0.16.2:\n",
            "      Successfully uninstalled scikit-image-0.16.2\n",
            "\u001b[31mERROR: pip's dependency resolver does not currently take into account all the packages that are installed. This behaviour is the source of the following dependency conflicts.\n",
            "albumentations 0.1.12 requires imgaug<0.2.7,>=0.2.5, but you have imgaug 0.2.9 which is incompatible.\u001b[0m\n",
            "Successfully installed scikit-image-0.17.2\n",
            "Collecting lap==0.4.0\n",
            "  Downloading lap-0.4.0.tar.gz (1.5 MB)\n",
            "\u001b[K     |████████████████████████████████| 1.5 MB 5.2 MB/s \n",
            "\u001b[?25hBuilding wheels for collected packages: lap\n",
            "  Building wheel for lap (setup.py) ... \u001b[?25l\u001b[?25hdone\n",
            "  Created wheel for lap: filename=lap-0.4.0-cp37-cp37m-linux_x86_64.whl size=1590194 sha256=b85defb20ac2e580b0b54a47459423f7d4dfefafb4c059e9ce63ff46eacebb7d\n",
            "  Stored in directory: /root/.cache/pip/wheels/b1/0b/e3/ef9daf1b5547b56389e42c80c3100f1e6479bf5fd00fd9d6ba\n",
            "Successfully built lap\n",
            "Installing collected packages: lap\n",
            "Successfully installed lap-0.4.0\n"
          ]
        }
      ]
    },
    {
      "cell_type": "code",
      "metadata": {
        "id": "FMb1U00Ac4RB",
        "colab": {
          "base_uri": "https://localhost:8080/",
          "height": 1000
        },
        "outputId": "8705143c-339f-4b1e-aa05-0e3e38d2dd9c"
      },
      "source": [
        "!git clone https://github.com/facebookresearch/detectron2 detectron2_repo\n",
        "!pip install -e detectron2_repo"
      ],
      "execution_count": 4,
      "outputs": [
        {
          "output_type": "stream",
          "name": "stdout",
          "text": [
            "Cloning into 'detectron2_repo'...\n",
            "remote: Enumerating objects: 13082, done.\u001b[K\n",
            "remote: Counting objects: 100% (583/583), done.\u001b[K\n",
            "remote: Compressing objects: 100% (292/292), done.\u001b[K\n",
            "remote: Total 13082 (delta 334), reused 471 (delta 287), pack-reused 12499\u001b[K\n",
            "Receiving objects: 100% (13082/13082), 5.61 MiB | 16.56 MiB/s, done.\n",
            "Resolving deltas: 100% (9290/9290), done.\n",
            "Obtaining file:///content/detectron2_repo\n",
            "Requirement already satisfied: Pillow>=7.1 in /usr/local/lib/python3.7/dist-packages (from detectron2==0.5) (7.1.2)\n",
            "Requirement already satisfied: matplotlib in /usr/local/lib/python3.7/dist-packages (from detectron2==0.5) (3.2.2)\n",
            "Requirement already satisfied: pycocotools>=2.0.2 in /usr/local/lib/python3.7/dist-packages (from detectron2==0.5) (2.0.2)\n",
            "Requirement already satisfied: termcolor>=1.1 in /usr/local/lib/python3.7/dist-packages (from detectron2==0.5) (1.1.0)\n",
            "Requirement already satisfied: yacs>=0.1.6 in /usr/local/lib/python3.7/dist-packages (from detectron2==0.5) (0.1.8)\n",
            "Requirement already satisfied: tabulate in /usr/local/lib/python3.7/dist-packages (from detectron2==0.5) (0.8.9)\n",
            "Requirement already satisfied: cloudpickle in /usr/local/lib/python3.7/dist-packages (from detectron2==0.5) (1.3.0)\n",
            "Requirement already satisfied: tqdm>4.29.0 in /usr/local/lib/python3.7/dist-packages (from detectron2==0.5) (4.62.2)\n",
            "Requirement already satisfied: tensorboard in /usr/local/lib/python3.7/dist-packages (from detectron2==0.5) (2.6.0)\n",
            "Requirement already satisfied: fvcore<0.1.6,>=0.1.5 in /usr/local/lib/python3.7/dist-packages (from detectron2==0.5) (0.1.5)\n",
            "Requirement already satisfied: iopath<0.1.10,>=0.1.7 in /usr/local/lib/python3.7/dist-packages (from detectron2==0.5) (0.1.9)\n",
            "Requirement already satisfied: future in /usr/local/lib/python3.7/dist-packages (from detectron2==0.5) (0.16.0)\n",
            "Requirement already satisfied: pydot in /usr/local/lib/python3.7/dist-packages (from detectron2==0.5) (1.3.0)\n",
            "Collecting omegaconf>=2.1\n",
            "  Downloading omegaconf-2.1.1-py3-none-any.whl (74 kB)\n",
            "\u001b[K     |████████████████████████████████| 74 kB 2.0 MB/s \n",
            "\u001b[?25hCollecting hydra-core>=1.1\n",
            "  Downloading hydra_core-1.1.1-py3-none-any.whl (145 kB)\n",
            "\u001b[K     |████████████████████████████████| 145 kB 11.2 MB/s \n",
            "\u001b[?25hCollecting black==21.4b2\n",
            "  Downloading black-21.4b2-py3-none-any.whl (130 kB)\n",
            "\u001b[K     |████████████████████████████████| 130 kB 43.4 MB/s \n",
            "\u001b[?25hRequirement already satisfied: appdirs in /usr/local/lib/python3.7/dist-packages (from black==21.4b2->detectron2==0.5) (1.4.4)\n",
            "Collecting pathspec<1,>=0.8.1\n",
            "  Downloading pathspec-0.9.0-py2.py3-none-any.whl (31 kB)\n",
            "Collecting mypy-extensions>=0.4.3\n",
            "  Downloading mypy_extensions-0.4.3-py2.py3-none-any.whl (4.5 kB)\n",
            "Requirement already satisfied: typing-extensions>=3.7.4 in /usr/local/lib/python3.7/dist-packages (from black==21.4b2->detectron2==0.5) (3.7.4.3)\n",
            "Collecting regex>=2020.1.8\n",
            "  Downloading regex-2021.8.28-cp37-cp37m-manylinux_2_17_x86_64.manylinux2014_x86_64.whl (745 kB)\n",
            "\u001b[K     |████████████████████████████████| 745 kB 40.3 MB/s \n",
            "\u001b[?25hCollecting typed-ast>=1.4.2\n",
            "  Downloading typed_ast-1.4.3-cp37-cp37m-manylinux1_x86_64.whl (743 kB)\n",
            "\u001b[K     |████████████████████████████████| 743 kB 31.5 MB/s \n",
            "\u001b[?25hRequirement already satisfied: click>=7.1.2 in /usr/local/lib/python3.7/dist-packages (from black==21.4b2->detectron2==0.5) (7.1.2)\n",
            "Requirement already satisfied: toml>=0.10.1 in /usr/local/lib/python3.7/dist-packages (from black==21.4b2->detectron2==0.5) (0.10.2)\n",
            "Requirement already satisfied: pyyaml>=5.1 in /usr/local/lib/python3.7/dist-packages (from fvcore<0.1.6,>=0.1.5->detectron2==0.5) (5.4.1)\n",
            "Requirement already satisfied: numpy in /usr/local/lib/python3.7/dist-packages (from fvcore<0.1.6,>=0.1.5->detectron2==0.5) (1.19.5)\n",
            "Collecting antlr4-python3-runtime==4.8\n",
            "  Downloading antlr4-python3-runtime-4.8.tar.gz (112 kB)\n",
            "\u001b[K     |████████████████████████████████| 112 kB 47.7 MB/s \n",
            "\u001b[?25hRequirement already satisfied: importlib-resources in /usr/local/lib/python3.7/dist-packages (from hydra-core>=1.1->detectron2==0.5) (5.2.2)\n",
            "Requirement already satisfied: portalocker in /usr/local/lib/python3.7/dist-packages (from iopath<0.1.10,>=0.1.7->detectron2==0.5) (2.3.2)\n",
            "Requirement already satisfied: cython>=0.27.3 in /usr/local/lib/python3.7/dist-packages (from pycocotools>=2.0.2->detectron2==0.5) (0.29.24)\n",
            "Requirement already satisfied: setuptools>=18.0 in /usr/local/lib/python3.7/dist-packages (from pycocotools>=2.0.2->detectron2==0.5) (57.4.0)\n",
            "Requirement already satisfied: python-dateutil>=2.1 in /usr/local/lib/python3.7/dist-packages (from matplotlib->detectron2==0.5) (2.8.2)\n",
            "Requirement already satisfied: pyparsing!=2.0.4,!=2.1.2,!=2.1.6,>=2.0.1 in /usr/local/lib/python3.7/dist-packages (from matplotlib->detectron2==0.5) (2.4.7)\n",
            "Requirement already satisfied: cycler>=0.10 in /usr/local/lib/python3.7/dist-packages (from matplotlib->detectron2==0.5) (0.10.0)\n",
            "Requirement already satisfied: kiwisolver>=1.0.1 in /usr/local/lib/python3.7/dist-packages (from matplotlib->detectron2==0.5) (1.3.2)\n",
            "Requirement already satisfied: six in /usr/local/lib/python3.7/dist-packages (from cycler>=0.10->matplotlib->detectron2==0.5) (1.15.0)\n",
            "Requirement already satisfied: zipp>=3.1.0 in /usr/local/lib/python3.7/dist-packages (from importlib-resources->hydra-core>=1.1->detectron2==0.5) (3.5.0)\n",
            "Requirement already satisfied: tensorboard-data-server<0.7.0,>=0.6.0 in /usr/local/lib/python3.7/dist-packages (from tensorboard->detectron2==0.5) (0.6.1)\n",
            "Requirement already satisfied: werkzeug>=0.11.15 in /usr/local/lib/python3.7/dist-packages (from tensorboard->detectron2==0.5) (1.0.1)\n",
            "Requirement already satisfied: absl-py>=0.4 in /usr/local/lib/python3.7/dist-packages (from tensorboard->detectron2==0.5) (0.12.0)\n",
            "Requirement already satisfied: markdown>=2.6.8 in /usr/local/lib/python3.7/dist-packages (from tensorboard->detectron2==0.5) (3.3.4)\n",
            "Requirement already satisfied: google-auth<2,>=1.6.3 in /usr/local/lib/python3.7/dist-packages (from tensorboard->detectron2==0.5) (1.35.0)\n",
            "Requirement already satisfied: grpcio>=1.24.3 in /usr/local/lib/python3.7/dist-packages (from tensorboard->detectron2==0.5) (1.40.0)\n",
            "Requirement already satisfied: protobuf>=3.6.0 in /usr/local/lib/python3.7/dist-packages (from tensorboard->detectron2==0.5) (3.17.3)\n",
            "Requirement already satisfied: tensorboard-plugin-wit>=1.6.0 in /usr/local/lib/python3.7/dist-packages (from tensorboard->detectron2==0.5) (1.8.0)\n",
            "Requirement already satisfied: google-auth-oauthlib<0.5,>=0.4.1 in /usr/local/lib/python3.7/dist-packages (from tensorboard->detectron2==0.5) (0.4.6)\n",
            "Requirement already satisfied: requests<3,>=2.21.0 in /usr/local/lib/python3.7/dist-packages (from tensorboard->detectron2==0.5) (2.23.0)\n",
            "Requirement already satisfied: wheel>=0.26 in /usr/local/lib/python3.7/dist-packages (from tensorboard->detectron2==0.5) (0.37.0)\n",
            "Requirement already satisfied: rsa<5,>=3.1.4 in /usr/local/lib/python3.7/dist-packages (from google-auth<2,>=1.6.3->tensorboard->detectron2==0.5) (4.7.2)\n",
            "Requirement already satisfied: pyasn1-modules>=0.2.1 in /usr/local/lib/python3.7/dist-packages (from google-auth<2,>=1.6.3->tensorboard->detectron2==0.5) (0.2.8)\n",
            "Requirement already satisfied: cachetools<5.0,>=2.0.0 in /usr/local/lib/python3.7/dist-packages (from google-auth<2,>=1.6.3->tensorboard->detectron2==0.5) (4.2.2)\n",
            "Requirement already satisfied: requests-oauthlib>=0.7.0 in /usr/local/lib/python3.7/dist-packages (from google-auth-oauthlib<0.5,>=0.4.1->tensorboard->detectron2==0.5) (1.3.0)\n",
            "Requirement already satisfied: importlib-metadata in /usr/local/lib/python3.7/dist-packages (from markdown>=2.6.8->tensorboard->detectron2==0.5) (4.8.1)\n",
            "Requirement already satisfied: pyasn1<0.5.0,>=0.4.6 in /usr/local/lib/python3.7/dist-packages (from pyasn1-modules>=0.2.1->google-auth<2,>=1.6.3->tensorboard->detectron2==0.5) (0.4.8)\n",
            "Requirement already satisfied: certifi>=2017.4.17 in /usr/local/lib/python3.7/dist-packages (from requests<3,>=2.21.0->tensorboard->detectron2==0.5) (2021.5.30)\n",
            "Requirement already satisfied: idna<3,>=2.5 in /usr/local/lib/python3.7/dist-packages (from requests<3,>=2.21.0->tensorboard->detectron2==0.5) (2.10)\n",
            "Requirement already satisfied: chardet<4,>=3.0.2 in /usr/local/lib/python3.7/dist-packages (from requests<3,>=2.21.0->tensorboard->detectron2==0.5) (3.0.4)\n",
            "Requirement already satisfied: urllib3!=1.25.0,!=1.25.1,<1.26,>=1.21.1 in /usr/local/lib/python3.7/dist-packages (from requests<3,>=2.21.0->tensorboard->detectron2==0.5) (1.24.3)\n",
            "Requirement already satisfied: oauthlib>=3.0.0 in /usr/local/lib/python3.7/dist-packages (from requests-oauthlib>=0.7.0->google-auth-oauthlib<0.5,>=0.4.1->tensorboard->detectron2==0.5) (3.1.1)\n",
            "Building wheels for collected packages: antlr4-python3-runtime\n",
            "  Building wheel for antlr4-python3-runtime (setup.py) ... \u001b[?25l\u001b[?25hdone\n",
            "  Created wheel for antlr4-python3-runtime: filename=antlr4_python3_runtime-4.8-py3-none-any.whl size=141230 sha256=28fd925a7db2f9893fa928da0066f260ea7d641ebe8fabb655d07a6c37a13e27\n",
            "  Stored in directory: /root/.cache/pip/wheels/ca/33/b7/336836125fc9bb4ceaa4376d8abca10ca8bc84ddc824baea6c\n",
            "Successfully built antlr4-python3-runtime\n",
            "Installing collected packages: antlr4-python3-runtime, typed-ast, regex, pathspec, omegaconf, mypy-extensions, hydra-core, black, detectron2\n",
            "  Attempting uninstall: regex\n",
            "    Found existing installation: regex 2019.12.20\n",
            "    Uninstalling regex-2019.12.20:\n",
            "      Successfully uninstalled regex-2019.12.20\n",
            "  Running setup.py develop for detectron2\n",
            "Successfully installed antlr4-python3-runtime-4.8 black-21.4b2 detectron2-0.5 hydra-core-1.1.1 mypy-extensions-0.4.3 omegaconf-2.1.1 pathspec-0.9.0 regex-2021.8.28 typed-ast-1.4.3\n"
          ]
        },
        {
          "output_type": "display_data",
          "data": {
            "application/vnd.colab-display-data+json": {
              "pip_warning": {
                "packages": [
                  "pydevd_plugins"
                ]
              }
            }
          },
          "metadata": {}
        }
      ]
    },
    {
      "cell_type": "markdown",
      "metadata": {
        "id": "M89_JFPheoeG"
      },
      "source": [
        "Po zainstalowaniu detektrona należy ponownie uruchomić środowisko wykonawcze"
      ]
    },
    {
      "cell_type": "markdown",
      "metadata": {
        "id": "TItvqPsodGqY"
      },
      "source": [
        "## Import bibliotek"
      ]
    },
    {
      "cell_type": "code",
      "metadata": {
        "id": "YrEFQb5JdGCQ"
      },
      "source": [
        "import detectron2\n",
        "from detectron2.utils.logger import setup_logger\n",
        "setup_logger()\n",
        "\n",
        "import matplotlib.pyplot as plt\n",
        "import numpy as np\n",
        "import cv2\n",
        "from google.colab.patches import cv2_imshow\n",
        "import random\n",
        "import tqdm\n",
        "import os\n",
        "\n",
        "\n",
        "from detectron2.engine import DefaultPredictor\n",
        "from detectron2.config import get_cfg\n",
        "from detectron2.utils.visualizer import Visualizer\n",
        "from detectron2.data import MetadataCatalog, DatasetCatalog\n",
        "from detectron2.engine import DefaultTrainer\n",
        "from detectron2 import model_zoo\n",
        "from detectron2.data.datasets import register_coco_instances"
      ],
      "execution_count": 1,
      "outputs": []
    },
    {
      "cell_type": "code",
      "metadata": {
        "id": "r1ZQGmQedFdk"
      },
      "source": [
        "#Import potrzebny do Sorta\n",
        "#Komórkę należy uruchomić 2 razy\n",
        "\n",
        "from __future__ import print_function\n",
        "\n",
        "import os\n",
        "import numpy as np\n",
        "import matplotlib\n",
        "matplotlib.use('TkAgg')\n",
        "import matplotlib.pyplot as plt\n",
        "import matplotlib.patches as patches\n",
        "from skimage import io\n",
        "import glob\n",
        "import time\n",
        "import argparse\n",
        "from filterpy.kalman import KalmanFilter\n",
        "import shutil"
      ],
      "execution_count": 4,
      "outputs": []
    },
    {
      "cell_type": "markdown",
      "metadata": {
        "id": "yILka0VVeWls"
      },
      "source": [
        "##Fragmenty filmów do oceny działania trackingu"
      ]
    },
    {
      "cell_type": "code",
      "metadata": {
        "colab": {
          "base_uri": "https://localhost:8080/"
        },
        "id": "fYh1KVMpedcA",
        "outputId": "4e99b2d6-df6e-48ed-ad95-63c7458df095"
      },
      "source": [
        "!gdown --id 1GTdTEC4ZFBIAHG2FDgPhk88I7B8waj6x\n",
        "!gdown --id 1RP_PBnfr2MJNN-9qbx58QUwIR-fDPryF\n",
        "!gdown --id 181uMply2Hi2876uRUvj3-lsX-sRXaK-A\n",
        "!gdown --id 1C58HCq3oFaMYeufYo7A-31Mxt3hZuToe\n",
        "!gdown --id 1t9zeUq0yAj3pWwQZsnKqIaYN6u2qLgtP"
      ],
      "execution_count": 3,
      "outputs": [
        {
          "output_type": "stream",
          "name": "stdout",
          "text": [
            "Downloading...\n",
            "From: https://drive.google.com/uc?id=1GTdTEC4ZFBIAHG2FDgPhk88I7B8waj6x\n",
            "To: /content/video-test-short2.mp4\n",
            "78.7MB [00:00, 128MB/s]\n",
            "Downloading...\n",
            "From: https://drive.google.com/uc?id=1RP_PBnfr2MJNN-9qbx58QUwIR-fDPryF\n",
            "To: /content/video-test-short1.mp4\n",
            "6.71MB [00:00, 31.3MB/s]\n",
            "Downloading...\n",
            "From: https://drive.google.com/uc?id=181uMply2Hi2876uRUvj3-lsX-sRXaK-A\n",
            "To: /content/video-test-long1.mp4\n",
            "19.0MB [00:00, 52.1MB/s]\n",
            "Downloading...\n",
            "From: https://drive.google.com/uc?id=1C58HCq3oFaMYeufYo7A-31Mxt3hZuToe\n",
            "To: /content/video-test-long2.mp4\n",
            "63.0MB [00:00, 173MB/s]\n",
            "Downloading...\n",
            "From: https://drive.google.com/uc?id=1t9zeUq0yAj3pWwQZsnKqIaYN6u2qLgtP\n",
            "To: /content/video-test-long3.mp4\n",
            "160MB [00:01, 148MB/s]\n"
          ]
        }
      ]
    },
    {
      "cell_type": "code",
      "metadata": {
        "id": "X90Hl_MLeetF",
        "colab": {
          "base_uri": "https://localhost:8080/"
        },
        "outputId": "03a17214-c379-472f-94de-7bc9326fce6c"
      },
      "source": [
        "!ffmpeg -i video-test-short1.mp4 -c:v copy video-clip1.mp4\n",
        "!ffmpeg -i video-test-short2.mp4 -t 00:00:10 -c:v copy video-clip2.mp4\n",
        "!ffmpeg -i video-test-long1.mp4 -c:v copy video-clip3.mp4\n",
        "!ffmpeg -i video-test-long2.mp4 -c:v copy video-clip4.mp4\n",
        "!ffmpeg -i video-test-long3.mp4 -c:v copy video-clip5.mp4\n"
      ],
      "execution_count": 5,
      "outputs": [
        {
          "output_type": "stream",
          "name": "stdout",
          "text": [
            "ffmpeg version 3.4.8-0ubuntu0.2 Copyright (c) 2000-2020 the FFmpeg developers\n",
            "  built with gcc 7 (Ubuntu 7.5.0-3ubuntu1~18.04)\n",
            "  configuration: --prefix=/usr --extra-version=0ubuntu0.2 --toolchain=hardened --libdir=/usr/lib/x86_64-linux-gnu --incdir=/usr/include/x86_64-linux-gnu --enable-gpl --disable-stripping --enable-avresample --enable-avisynth --enable-gnutls --enable-ladspa --enable-libass --enable-libbluray --enable-libbs2b --enable-libcaca --enable-libcdio --enable-libflite --enable-libfontconfig --enable-libfreetype --enable-libfribidi --enable-libgme --enable-libgsm --enable-libmp3lame --enable-libmysofa --enable-libopenjpeg --enable-libopenmpt --enable-libopus --enable-libpulse --enable-librubberband --enable-librsvg --enable-libshine --enable-libsnappy --enable-libsoxr --enable-libspeex --enable-libssh --enable-libtheora --enable-libtwolame --enable-libvorbis --enable-libvpx --enable-libwavpack --enable-libwebp --enable-libx265 --enable-libxml2 --enable-libxvid --enable-libzmq --enable-libzvbi --enable-omx --enable-openal --enable-opengl --enable-sdl2 --enable-libdc1394 --enable-libdrm --enable-libiec61883 --enable-chromaprint --enable-frei0r --enable-libopencv --enable-libx264 --enable-shared\n",
            "  libavutil      55. 78.100 / 55. 78.100\n",
            "  libavcodec     57.107.100 / 57.107.100\n",
            "  libavformat    57. 83.100 / 57. 83.100\n",
            "  libavdevice    57. 10.100 / 57. 10.100\n",
            "  libavfilter     6.107.100 /  6.107.100\n",
            "  libavresample   3.  7.  0 /  3.  7.  0\n",
            "  libswscale      4.  8.100 /  4.  8.100\n",
            "  libswresample   2.  9.100 /  2.  9.100\n",
            "  libpostproc    54.  7.100 / 54.  7.100\n",
            "Input #0, mov,mp4,m4a,3gp,3g2,mj2, from 'video-test-short1.mp4':\n",
            "  Metadata:\n",
            "    major_brand     : mp42\n",
            "    minor_version   : 0\n",
            "    compatible_brands: mp41isom\n",
            "    creation_time   : 2021-06-06T13:24:22.000000Z\n",
            "  Duration: 00:00:15.27, start: 0.000000, bitrate: 3516 kb/s\n",
            "    Stream #0:0(und): Video: h264 (Main) (avc1 / 0x31637661), yuv420p, 1920x1080 [SAR 1:1 DAR 16:9], 3318 kb/s, 30 fps, 30 tbr, 30k tbn, 60 tbc (default)\n",
            "    Metadata:\n",
            "      creation_time   : 2021-06-06T13:27:18.000000Z\n",
            "      handler_name    : VideoHandler\n",
            "      encoder         : AVC Coding\n",
            "    Stream #0:1(und): Audio: aac (LC) (mp4a / 0x6134706D), 48000 Hz, stereo, fltp, 196 kb/s (default)\n",
            "    Metadata:\n",
            "      creation_time   : 2021-06-06T13:27:18.000000Z\n",
            "      handler_name    : SoundHandler\n",
            "Stream mapping:\n",
            "  Stream #0:0 -> #0:0 (copy)\n",
            "  Stream #0:1 -> #0:1 (aac (native) -> aac (native))\n",
            "Press [q] to stop, [?] for help\n",
            "Output #0, mp4, to 'video-clip1.mp4':\n",
            "  Metadata:\n",
            "    major_brand     : mp42\n",
            "    minor_version   : 0\n",
            "    compatible_brands: mp41isom\n",
            "    encoder         : Lavf57.83.100\n",
            "    Stream #0:0(und): Video: h264 (Main) (avc1 / 0x31637661), yuv420p, 1920x1080 [SAR 1:1 DAR 16:9], q=2-31, 3318 kb/s, 30 fps, 30 tbr, 30k tbn, 30k tbc (default)\n",
            "    Metadata:\n",
            "      creation_time   : 2021-06-06T13:27:18.000000Z\n",
            "      handler_name    : VideoHandler\n",
            "      encoder         : AVC Coding\n",
            "    Stream #0:1(und): Audio: aac (LC) (mp4a / 0x6134706D), 48000 Hz, stereo, fltp, 128 kb/s (default)\n",
            "    Metadata:\n",
            "      creation_time   : 2021-06-06T13:27:18.000000Z\n",
            "      handler_name    : SoundHandler\n",
            "      encoder         : Lavc57.107.100 aac\n",
            "frame=  458 fps=0.0 q=-1.0 Lsize=    6440kB time=00:00:15.27 bitrate=3453.9kbits/s speed=23.3x    \n",
            "video:6185kB audio:241kB subtitle:0kB other streams:0kB global headers:0kB muxing overhead: 0.221561%\n",
            "\u001b[1;36m[aac @ 0x55862a98d700] \u001b[0mQavg: 398.733\n",
            "ffmpeg version 3.4.8-0ubuntu0.2 Copyright (c) 2000-2020 the FFmpeg developers\n",
            "  built with gcc 7 (Ubuntu 7.5.0-3ubuntu1~18.04)\n",
            "  configuration: --prefix=/usr --extra-version=0ubuntu0.2 --toolchain=hardened --libdir=/usr/lib/x86_64-linux-gnu --incdir=/usr/include/x86_64-linux-gnu --enable-gpl --disable-stripping --enable-avresample --enable-avisynth --enable-gnutls --enable-ladspa --enable-libass --enable-libbluray --enable-libbs2b --enable-libcaca --enable-libcdio --enable-libflite --enable-libfontconfig --enable-libfreetype --enable-libfribidi --enable-libgme --enable-libgsm --enable-libmp3lame --enable-libmysofa --enable-libopenjpeg --enable-libopenmpt --enable-libopus --enable-libpulse --enable-librubberband --enable-librsvg --enable-libshine --enable-libsnappy --enable-libsoxr --enable-libspeex --enable-libssh --enable-libtheora --enable-libtwolame --enable-libvorbis --enable-libvpx --enable-libwavpack --enable-libwebp --enable-libx265 --enable-libxml2 --enable-libxvid --enable-libzmq --enable-libzvbi --enable-omx --enable-openal --enable-opengl --enable-sdl2 --enable-libdc1394 --enable-libdrm --enable-libiec61883 --enable-chromaprint --enable-frei0r --enable-libopencv --enable-libx264 --enable-shared\n",
            "  libavutil      55. 78.100 / 55. 78.100\n",
            "  libavcodec     57.107.100 / 57.107.100\n",
            "  libavformat    57. 83.100 / 57. 83.100\n",
            "  libavdevice    57. 10.100 / 57. 10.100\n",
            "  libavfilter     6.107.100 /  6.107.100\n",
            "  libavresample   3.  7.  0 /  3.  7.  0\n",
            "  libswscale      4.  8.100 /  4.  8.100\n",
            "  libswresample   2.  9.100 /  2.  9.100\n",
            "  libpostproc    54.  7.100 / 54.  7.100\n",
            "Input #0, mov,mp4,m4a,3gp,3g2,mj2, from 'video-test-short2.mp4':\n",
            "  Metadata:\n",
            "    major_brand     : mp42\n",
            "    minor_version   : 0\n",
            "    compatible_brands: mp41isom\n",
            "    creation_time   : 2020-09-14T19:29:41.000000Z\n",
            "  Duration: 00:00:42.67, start: 0.000000, bitrate: 14748 kb/s\n",
            "    Stream #0:0(und): Video: h264 (Main) (avc1 / 0x31637661), yuv420p, 1920x1080 [SAR 1:1 DAR 16:9], 14556 kb/s, 30 fps, 30 tbr, 30k tbn, 60 tbc (default)\n",
            "    Metadata:\n",
            "      creation_time   : 2021-04-04T13:37:36.000000Z\n",
            "      handler_name    : VideoHandler\n",
            "      encoder         : AVC Coding\n",
            "    Stream #0:1(und): Audio: aac (LC) (mp4a / 0x6134706D), 48000 Hz, stereo, fltp, 198 kb/s (default)\n",
            "    Metadata:\n",
            "      creation_time   : 2021-04-04T13:37:36.000000Z\n",
            "      handler_name    : SoundHandler\n",
            "Stream mapping:\n",
            "  Stream #0:0 -> #0:0 (copy)\n",
            "  Stream #0:1 -> #0:1 (aac (native) -> aac (native))\n",
            "Press [q] to stop, [?] for help\n",
            "Output #0, mp4, to 'video-clip2.mp4':\n",
            "  Metadata:\n",
            "    major_brand     : mp42\n",
            "    minor_version   : 0\n",
            "    compatible_brands: mp41isom\n",
            "    encoder         : Lavf57.83.100\n",
            "    Stream #0:0(und): Video: h264 (Main) (avc1 / 0x31637661), yuv420p, 1920x1080 [SAR 1:1 DAR 16:9], q=2-31, 14556 kb/s, 30 fps, 30 tbr, 30k tbn, 30k tbc (default)\n",
            "    Metadata:\n",
            "      creation_time   : 2021-04-04T13:37:36.000000Z\n",
            "      handler_name    : VideoHandler\n",
            "      encoder         : AVC Coding\n",
            "    Stream #0:1(und): Audio: aac (LC) (mp4a / 0x6134706D), 48000 Hz, stereo, fltp, 128 kb/s (default)\n",
            "    Metadata:\n",
            "      creation_time   : 2021-04-04T13:37:36.000000Z\n",
            "      handler_name    : SoundHandler\n",
            "      encoder         : Lavc57.107.100 aac\n",
            "frame=  300 fps=0.0 q=-1.0 Lsize=   15628kB time=00:00:10.00 bitrate=12795.9kbits/s speed=  13x    \n",
            "video:15460kB audio:156kB subtitle:0kB other streams:0kB global headers:0kB muxing overhead: 0.074261%\n",
            "\u001b[1;36m[aac @ 0x562da87c1700] \u001b[0mQavg: 205.931\n",
            "ffmpeg version 3.4.8-0ubuntu0.2 Copyright (c) 2000-2020 the FFmpeg developers\n",
            "  built with gcc 7 (Ubuntu 7.5.0-3ubuntu1~18.04)\n",
            "  configuration: --prefix=/usr --extra-version=0ubuntu0.2 --toolchain=hardened --libdir=/usr/lib/x86_64-linux-gnu --incdir=/usr/include/x86_64-linux-gnu --enable-gpl --disable-stripping --enable-avresample --enable-avisynth --enable-gnutls --enable-ladspa --enable-libass --enable-libbluray --enable-libbs2b --enable-libcaca --enable-libcdio --enable-libflite --enable-libfontconfig --enable-libfreetype --enable-libfribidi --enable-libgme --enable-libgsm --enable-libmp3lame --enable-libmysofa --enable-libopenjpeg --enable-libopenmpt --enable-libopus --enable-libpulse --enable-librubberband --enable-librsvg --enable-libshine --enable-libsnappy --enable-libsoxr --enable-libspeex --enable-libssh --enable-libtheora --enable-libtwolame --enable-libvorbis --enable-libvpx --enable-libwavpack --enable-libwebp --enable-libx265 --enable-libxml2 --enable-libxvid --enable-libzmq --enable-libzvbi --enable-omx --enable-openal --enable-opengl --enable-sdl2 --enable-libdc1394 --enable-libdrm --enable-libiec61883 --enable-chromaprint --enable-frei0r --enable-libopencv --enable-libx264 --enable-shared\n",
            "  libavutil      55. 78.100 / 55. 78.100\n",
            "  libavcodec     57.107.100 / 57.107.100\n",
            "  libavformat    57. 83.100 / 57. 83.100\n",
            "  libavdevice    57. 10.100 / 57. 10.100\n",
            "  libavfilter     6.107.100 /  6.107.100\n",
            "  libavresample   3.  7.  0 /  3.  7.  0\n",
            "  libswscale      4.  8.100 /  4.  8.100\n",
            "  libswresample   2.  9.100 /  2.  9.100\n",
            "  libpostproc    54.  7.100 / 54.  7.100\n",
            "Input #0, mov,mp4,m4a,3gp,3g2,mj2, from 'video-test-long1.mp4':\n",
            "  Metadata:\n",
            "    major_brand     : mp42\n",
            "    minor_version   : 0\n",
            "    compatible_brands: mp41isom\n",
            "    creation_time   : 2016-08-14T16:51:05.000000Z\n",
            "  Duration: 00:01:00.89, start: 0.000000, bitrate: 2496 kb/s\n",
            "    Stream #0:0(und): Video: h264 (Main) (avc1 / 0x31637661), yuv420p, 1280x720 [SAR 1:1 DAR 16:9], 2317 kb/s, 30 fps, 30 tbr, 30k tbn, 60 tbc (default)\n",
            "    Metadata:\n",
            "      creation_time   : 2021-09-21T18:06:54.000000Z\n",
            "      handler_name    : VideoHandler\n",
            "      encoder         : AVC Coding\n",
            "    Stream #0:1(und): Audio: aac (LC) (mp4a / 0x6134706D), 48000 Hz, stereo, fltp, 179 kb/s (default)\n",
            "    Metadata:\n",
            "      creation_time   : 2021-09-21T18:06:54.000000Z\n",
            "      handler_name    : SoundHandler\n",
            "Stream mapping:\n",
            "  Stream #0:0 -> #0:0 (copy)\n",
            "  Stream #0:1 -> #0:1 (aac (native) -> aac (native))\n",
            "Press [q] to stop, [?] for help\n",
            "Output #0, mp4, to 'video-clip3.mp4':\n",
            "  Metadata:\n",
            "    major_brand     : mp42\n",
            "    minor_version   : 0\n",
            "    compatible_brands: mp41isom\n",
            "    encoder         : Lavf57.83.100\n",
            "    Stream #0:0(und): Video: h264 (Main) (avc1 / 0x31637661), yuv420p, 1280x720 [SAR 1:1 DAR 16:9], q=2-31, 2317 kb/s, 30 fps, 30 tbr, 30k tbn, 30k tbc (default)\n",
            "    Metadata:\n",
            "      creation_time   : 2021-09-21T18:06:54.000000Z\n",
            "      handler_name    : VideoHandler\n",
            "      encoder         : AVC Coding\n",
            "    Stream #0:1(und): Audio: aac (LC) (mp4a / 0x6134706D), 48000 Hz, stereo, fltp, 128 kb/s (default)\n",
            "    Metadata:\n",
            "      creation_time   : 2021-09-21T18:06:54.000000Z\n",
            "      handler_name    : SoundHandler\n",
            "      encoder         : Lavc57.107.100 aac\n",
            "frame= 1824 fps=721 q=-1.0 Lsize=   18211kB time=00:01:00.88 bitrate=2450.2kbits/s speed=24.1x    \n",
            "video:17199kB audio:959kB subtitle:0kB other streams:0kB global headers:0kB muxing overhead: 0.290427%\n",
            "\u001b[1;36m[aac @ 0x55e144765700] \u001b[0mQavg: 1035.109\n",
            "ffmpeg version 3.4.8-0ubuntu0.2 Copyright (c) 2000-2020 the FFmpeg developers\n",
            "  built with gcc 7 (Ubuntu 7.5.0-3ubuntu1~18.04)\n",
            "  configuration: --prefix=/usr --extra-version=0ubuntu0.2 --toolchain=hardened --libdir=/usr/lib/x86_64-linux-gnu --incdir=/usr/include/x86_64-linux-gnu --enable-gpl --disable-stripping --enable-avresample --enable-avisynth --enable-gnutls --enable-ladspa --enable-libass --enable-libbluray --enable-libbs2b --enable-libcaca --enable-libcdio --enable-libflite --enable-libfontconfig --enable-libfreetype --enable-libfribidi --enable-libgme --enable-libgsm --enable-libmp3lame --enable-libmysofa --enable-libopenjpeg --enable-libopenmpt --enable-libopus --enable-libpulse --enable-librubberband --enable-librsvg --enable-libshine --enable-libsnappy --enable-libsoxr --enable-libspeex --enable-libssh --enable-libtheora --enable-libtwolame --enable-libvorbis --enable-libvpx --enable-libwavpack --enable-libwebp --enable-libx265 --enable-libxml2 --enable-libxvid --enable-libzmq --enable-libzvbi --enable-omx --enable-openal --enable-opengl --enable-sdl2 --enable-libdc1394 --enable-libdrm --enable-libiec61883 --enable-chromaprint --enable-frei0r --enable-libopencv --enable-libx264 --enable-shared\n",
            "  libavutil      55. 78.100 / 55. 78.100\n",
            "  libavcodec     57.107.100 / 57.107.100\n",
            "  libavformat    57. 83.100 / 57. 83.100\n",
            "  libavdevice    57. 10.100 / 57. 10.100\n",
            "  libavfilter     6.107.100 /  6.107.100\n",
            "  libavresample   3.  7.  0 /  3.  7.  0\n",
            "  libswscale      4.  8.100 /  4.  8.100\n",
            "  libswresample   2.  9.100 /  2.  9.100\n",
            "  libpostproc    54.  7.100 / 54.  7.100\n",
            "Input #0, mov,mp4,m4a,3gp,3g2,mj2, from 'video-test-long2.mp4':\n",
            "  Metadata:\n",
            "    major_brand     : mp42\n",
            "    minor_version   : 0\n",
            "    compatible_brands: mp41isom\n",
            "    creation_time   : 2021-09-21T18:26:16.000000Z\n",
            "  Duration: 00:00:50.52, start: 0.000000, bitrate: 9975 kb/s\n",
            "    Stream #0:0(und): Video: h264 (Constrained Baseline) (avc1 / 0x31637661), yuv420p, 1920x1080 [SAR 1:1 DAR 16:9], 9862 kb/s, 30 fps, 30 tbr, 30k tbn, 60 tbc (default)\n",
            "    Metadata:\n",
            "      creation_time   : 2021-09-21T18:26:16.000000Z\n",
            "      handler_name    : VideoHandler\n",
            "      encoder         : AVC Coding\n",
            "    Stream #0:1(und): Audio: aac (LC) (mp4a / 0x6134706D), 48000 Hz, stereo, fltp, 119 kb/s (default)\n",
            "    Metadata:\n",
            "      creation_time   : 2021-09-21T18:26:16.000000Z\n",
            "      handler_name    : SoundHandler\n",
            "Stream mapping:\n",
            "  Stream #0:0 -> #0:0 (copy)\n",
            "  Stream #0:1 -> #0:1 (aac (native) -> aac (native))\n",
            "Press [q] to stop, [?] for help\n",
            "Output #0, mp4, to 'video-clip4.mp4':\n",
            "  Metadata:\n",
            "    major_brand     : mp42\n",
            "    minor_version   : 0\n",
            "    compatible_brands: mp41isom\n",
            "    encoder         : Lavf57.83.100\n",
            "    Stream #0:0(und): Video: h264 (Constrained Baseline) (avc1 / 0x31637661), yuv420p, 1920x1080 [SAR 1:1 DAR 16:9], q=2-31, 9862 kb/s, 30 fps, 30 tbr, 30k tbn, 30k tbc (default)\n",
            "    Metadata:\n",
            "      creation_time   : 2021-09-21T18:26:16.000000Z\n",
            "      handler_name    : VideoHandler\n",
            "      encoder         : AVC Coding\n",
            "    Stream #0:1(und): Audio: aac (LC) (mp4a / 0x6134706D), 48000 Hz, stereo, fltp, 128 kb/s (default)\n",
            "    Metadata:\n",
            "      creation_time   : 2021-09-21T18:26:16.000000Z\n",
            "      handler_name    : SoundHandler\n",
            "      encoder         : Lavc57.107.100 aac\n",
            "frame= 1514 fps=732 q=-1.0 Lsize=   61592kB time=00:00:50.51 bitrate=9987.9kbits/s speed=24.4x    \n",
            "video:60756kB audio:792kB subtitle:0kB other streams:0kB global headers:0kB muxing overhead: 0.071563%\n",
            "\u001b[1;36m[aac @ 0x56024573b700] \u001b[0mQavg: 1949.052\n",
            "ffmpeg version 3.4.8-0ubuntu0.2 Copyright (c) 2000-2020 the FFmpeg developers\n",
            "  built with gcc 7 (Ubuntu 7.5.0-3ubuntu1~18.04)\n",
            "  configuration: --prefix=/usr --extra-version=0ubuntu0.2 --toolchain=hardened --libdir=/usr/lib/x86_64-linux-gnu --incdir=/usr/include/x86_64-linux-gnu --enable-gpl --disable-stripping --enable-avresample --enable-avisynth --enable-gnutls --enable-ladspa --enable-libass --enable-libbluray --enable-libbs2b --enable-libcaca --enable-libcdio --enable-libflite --enable-libfontconfig --enable-libfreetype --enable-libfribidi --enable-libgme --enable-libgsm --enable-libmp3lame --enable-libmysofa --enable-libopenjpeg --enable-libopenmpt --enable-libopus --enable-libpulse --enable-librubberband --enable-librsvg --enable-libshine --enable-libsnappy --enable-libsoxr --enable-libspeex --enable-libssh --enable-libtheora --enable-libtwolame --enable-libvorbis --enable-libvpx --enable-libwavpack --enable-libwebp --enable-libx265 --enable-libxml2 --enable-libxvid --enable-libzmq --enable-libzvbi --enable-omx --enable-openal --enable-opengl --enable-sdl2 --enable-libdc1394 --enable-libdrm --enable-libiec61883 --enable-chromaprint --enable-frei0r --enable-libopencv --enable-libx264 --enable-shared\n",
            "  libavutil      55. 78.100 / 55. 78.100\n",
            "  libavcodec     57.107.100 / 57.107.100\n",
            "  libavformat    57. 83.100 / 57. 83.100\n",
            "  libavdevice    57. 10.100 / 57. 10.100\n",
            "  libavfilter     6.107.100 /  6.107.100\n",
            "  libavresample   3.  7.  0 /  3.  7.  0\n",
            "  libswscale      4.  8.100 /  4.  8.100\n",
            "  libswresample   2.  9.100 /  2.  9.100\n",
            "  libpostproc    54.  7.100 / 54.  7.100\n",
            "Input #0, mov,mp4,m4a,3gp,3g2,mj2, from 'video-test-long3.mp4':\n",
            "  Metadata:\n",
            "    major_brand     : mp42\n",
            "    minor_version   : 0\n",
            "    compatible_brands: mp41isom\n",
            "    creation_time   : 2021-09-21T18:42:12.000000Z\n",
            "  Duration: 00:01:34.95, start: 0.000000, bitrate: 13453 kb/s\n",
            "    Stream #0:0(und): Video: h264 (Constrained Baseline) (avc1 / 0x31637661), yuv420p, 1920x1080 [SAR 1:1 DAR 16:9], 13323 kb/s, 30 fps, 30 tbr, 30k tbn, 60 tbc (default)\n",
            "    Metadata:\n",
            "      creation_time   : 2021-09-21T18:42:12.000000Z\n",
            "      handler_name    : VideoHandler\n",
            "      encoder         : AVC Coding\n",
            "    Stream #0:1(und): Audio: aac (LC) (mp4a / 0x6134706D), 48000 Hz, stereo, fltp, 134 kb/s (default)\n",
            "    Metadata:\n",
            "      creation_time   : 2021-09-21T18:42:12.000000Z\n",
            "      handler_name    : SoundHandler\n",
            "Stream mapping:\n",
            "  Stream #0:0 -> #0:0 (copy)\n",
            "  Stream #0:1 -> #0:1 (aac (native) -> aac (native))\n",
            "Press [q] to stop, [?] for help\n",
            "Output #0, mp4, to 'video-clip5.mp4':\n",
            "  Metadata:\n",
            "    major_brand     : mp42\n",
            "    minor_version   : 0\n",
            "    compatible_brands: mp41isom\n",
            "    encoder         : Lavf57.83.100\n",
            "    Stream #0:0(und): Video: h264 (Constrained Baseline) (avc1 / 0x31637661), yuv420p, 1920x1080 [SAR 1:1 DAR 16:9], q=2-31, 13323 kb/s, 30 fps, 30 tbr, 30k tbn, 30k tbc (default)\n",
            "    Metadata:\n",
            "      creation_time   : 2021-09-21T18:42:12.000000Z\n",
            "      handler_name    : VideoHandler\n",
            "      encoder         : AVC Coding\n",
            "    Stream #0:1(und): Audio: aac (LC) (mp4a / 0x6134706D), 48000 Hz, stereo, fltp, 128 kb/s (default)\n",
            "    Metadata:\n",
            "      creation_time   : 2021-09-21T18:42:12.000000Z\n",
            "      handler_name    : SoundHandler\n",
            "      encoder         : Lavc57.107.100 aac\n",
            "frame= 2847 fps=861 q=-1.0 Lsize=  155927kB time=00:01:34.95 bitrate=13452.2kbits/s speed=28.7x    \n",
            "video:154350kB audio:1495kB subtitle:0kB other streams:0kB global headers:0kB muxing overhead: 0.052393%\n",
            "\u001b[1;36m[aac @ 0x564e5210d700] \u001b[0mQavg: 451.468\n"
          ]
        }
      ]
    },
    {
      "cell_type": "markdown",
      "metadata": {
        "id": "VZQ97R8HeIve"
      },
      "source": [
        "## Ściaganie wag wytrenowanych modeli detectrona"
      ]
    },
    {
      "cell_type": "code",
      "metadata": {
        "colab": {
          "base_uri": "https://localhost:8080/"
        },
        "id": "lsjIHzYEd36f",
        "outputId": "df56da30-e492-492a-ebbc-d44d7d24a890"
      },
      "source": [
        "!gdown --id 16stn8KBJEeVeUhiRPgoVH4X0NtmbNnjJ\n",
        "# !gdown --id 1OuxHAD40ucI1D1gTHBQhVS_Ip_PxhfGh\n",
        "# !gdown --id 1-5X8HSj5YuSj5XaUe3CwAzqbICKyIRXk"
      ],
      "execution_count": 6,
      "outputs": [
        {
          "output_type": "stream",
          "name": "stdout",
          "text": [
            "Downloading...\n",
            "From: https://drive.google.com/uc?id=16stn8KBJEeVeUhiRPgoVH4X0NtmbNnjJ\n",
            "To: /content/model_final_difficult_easy_fasterrcnn_resnet50.pth\n",
            "166MB [00:01, 102MB/s]\n"
          ]
        }
      ]
    },
    {
      "cell_type": "markdown",
      "metadata": {
        "id": "FcIJuJMrmrE4"
      },
      "source": [
        "## Aplikacja algorytmu SORT"
      ]
    },
    {
      "cell_type": "code",
      "metadata": {
        "id": "JrFIFYPzeFML"
      },
      "source": [
        "\"\"\"\n",
        "    SORT: A Simple, Online and Realtime Tracker\n",
        "    Copyright (C) 2016-2020 Alex Bewley alex@bewley.ai\n",
        "\n",
        "    This program is free software: you can redistribute it and/or modify\n",
        "    it under the terms of the GNU General Public License as published by\n",
        "    the Free Software Foundation, either version 3 of the License, or\n",
        "    (at your option) any later version.\n",
        "\n",
        "    This program is distributed in the hope that it will be useful,\n",
        "    but WITHOUT ANY WARRANTY; without even the implied warranty of\n",
        "    MERCHANTABILITY or FITNESS FOR A PARTICULAR PURPOSE.  See the\n",
        "    GNU General Public License for more details.\n",
        "\n",
        "    You should have received a copy of the GNU General Public License\n",
        "    along with this program.  If not, see <http://www.gnu.org/licenses/>.\n",
        "\"\"\"\n",
        "\n",
        "\n",
        "def linear_assignment(cost_matrix):\n",
        "  try:\n",
        "    import lap\n",
        "    _, x, y = lap.lapjv(cost_matrix, extend_cost=True)\n",
        "    return np.array([[y[i],i] for i in x if i >= 0]) #\n",
        "  except ImportError:\n",
        "    from scipy.optimize import linear_sum_assignment\n",
        "    x, y = linear_sum_assignment(cost_matrix)\n",
        "    return np.array(list(zip(x, y)))\n",
        "\n",
        "\n",
        "def iou_batch(bb_test, bb_gt):\n",
        "  \"\"\"\n",
        "  From SORT: Computes IOU between two bboxes in the form [x1,y1,x2,y2]\n",
        "  \"\"\"\n",
        "  bb_gt = np.expand_dims(bb_gt, 0)\n",
        "  bb_test = np.expand_dims(bb_test, 1)\n",
        "  \n",
        "  xx1 = np.maximum(bb_test[..., 0], bb_gt[..., 0])\n",
        "  yy1 = np.maximum(bb_test[..., 1], bb_gt[..., 1])\n",
        "  xx2 = np.minimum(bb_test[..., 2], bb_gt[..., 2])\n",
        "  yy2 = np.minimum(bb_test[..., 3], bb_gt[..., 3])\n",
        "  w = np.maximum(0., xx2 - xx1)\n",
        "  h = np.maximum(0., yy2 - yy1)\n",
        "  wh = w * h\n",
        "  o = wh / ((bb_test[..., 2] - bb_test[..., 0]) * (bb_test[..., 3] - bb_test[..., 1])                                      \n",
        "    + (bb_gt[..., 2] - bb_gt[..., 0]) * (bb_gt[..., 3] - bb_gt[..., 1]) - wh)                                              \n",
        "  return(o)  \n",
        "\n",
        "\n",
        "def convert_bbox_to_z(bbox):\n",
        "  \"\"\"\n",
        "  Takes a bounding box in the form [x1,y1,x2,y2] and returns z in the form\n",
        "    [x,y,s,r] where x,y is the centre of the box and s is the scale/area and r is\n",
        "    the aspect ratio\n",
        "  \"\"\"\n",
        "  w = bbox[2] - bbox[0]\n",
        "  h = bbox[3] - bbox[1]\n",
        "  x = bbox[0] + w/2.\n",
        "  y = bbox[1] + h/2.\n",
        "  s = w * h    #scale is just area\n",
        "  r = w / float(h)\n",
        "  return np.array([x, y, s, r]).reshape((4, 1))\n",
        "\n",
        "\n",
        "def convert_x_to_bbox(x,score=None):\n",
        "  \"\"\"\n",
        "  Takes a bounding box in the centre form [x,y,s,r] and returns it in the form\n",
        "    [x1,y1,x2,y2] where x1,y1 is the top left and x2,y2 is the bottom right\n",
        "  \"\"\"\n",
        "  w = np.sqrt(x[2] * x[3])\n",
        "  h = x[2] / w\n",
        "  if(score==None):\n",
        "    return np.array([x[0]-w/2.,x[1]-h/2.,x[0]+w/2.,x[1]+h/2.]).reshape((1,4))\n",
        "  else:\n",
        "    return np.array([x[0]-w/2.,x[1]-h/2.,x[0]+w/2.,x[1]+h/2.,score]).reshape((1,5))\n",
        "\n",
        "\n",
        "class KalmanBoxTracker(object):\n",
        "  \"\"\"\n",
        "  This class represents the internal state of individual tracked objects observed as bbox.\n",
        "  \"\"\"\n",
        "  count = 0\n",
        "  def __init__(self,bbox):\n",
        "    \"\"\"\n",
        "    Initialises a tracker using initial bounding box.\n",
        "    \"\"\"\n",
        "    #define constant velocity model\n",
        "    self.kf = KalmanFilter(dim_x=7, dim_z=4) \n",
        "    self.kf.F = np.array([[1,0,0,0,1,0,0],[0,1,0,0,0,1,0],[0,0,1,0,0,0,1],[0,0,0,1,0,0,0],  [0,0,0,0,1,0,0],[0,0,0,0,0,1,0],[0,0,0,0,0,0,1]])\n",
        "    self.kf.H = np.array([[1,0,0,0,0,0,0],[0,1,0,0,0,0,0],[0,0,1,0,0,0,0],[0,0,0,1,0,0,0]])\n",
        "\n",
        "    self.kf.R[2:,2:] *= 10.\n",
        "    self.kf.P[4:,4:] *= 1000. #give high uncertainty to the unobservable initial velocities\n",
        "    self.kf.P *= 10.\n",
        "    self.kf.Q[-1,-1] *= 0.01\n",
        "    self.kf.Q[4:,4:] *= 0.01\n",
        "\n",
        "    self.kf.x[:4] = convert_bbox_to_z(bbox)\n",
        "    self.time_since_update = 0\n",
        "    self.id = KalmanBoxTracker.count\n",
        "    KalmanBoxTracker.count += 1\n",
        "    self.history = []\n",
        "    self.hits = 0\n",
        "    self.hit_streak = 0\n",
        "    self.age = 0\n",
        "\n",
        "  def update(self,bbox):\n",
        "    \"\"\"\n",
        "    Updates the state vector with observed bbox.\n",
        "    \"\"\"\n",
        "    self.time_since_update = 0\n",
        "    self.history = []\n",
        "    self.hits += 1\n",
        "    self.hit_streak += 1\n",
        "    self.kf.update(convert_bbox_to_z(bbox))\n",
        "\n",
        "  def predict(self):\n",
        "    \"\"\"\n",
        "    Advances the state vector and returns the predicted bounding box estimate.\n",
        "    \"\"\"\n",
        "    if((self.kf.x[6]+self.kf.x[2])<=0):\n",
        "      self.kf.x[6] *= 0.0\n",
        "    self.kf.predict()\n",
        "    self.age += 1\n",
        "    if(self.time_since_update>0):\n",
        "      self.hit_streak = 0\n",
        "    self.time_since_update += 1\n",
        "    self.history.append(convert_x_to_bbox(self.kf.x))\n",
        "    return self.history[-1]\n",
        "\n",
        "  def get_state(self):\n",
        "    \"\"\"\n",
        "    Returns the current bounding box estimate.\n",
        "    \"\"\"\n",
        "    return convert_x_to_bbox(self.kf.x)\n",
        "\n",
        "\n",
        "def associate_detections_to_trackers(detections,trackers,iou_threshold = 0.3):\n",
        "  \"\"\"\n",
        "  Assigns detections to tracked object (both represented as bounding boxes)\n",
        "\n",
        "  Returns 3 lists of matches, unmatched_detections and unmatched_trackers\n",
        "  \"\"\"\n",
        "  if(len(trackers)==0):\n",
        "    return np.empty((0,2),dtype=int), np.arange(len(detections)), np.empty((0,5),dtype=int)\n",
        "\n",
        "  iou_matrix = iou_batch(detections, trackers)\n",
        "\n",
        "  if min(iou_matrix.shape) > 0:\n",
        "    a = (iou_matrix > iou_threshold).astype(np.int32)\n",
        "    if a.sum(1).max() == 1 and a.sum(0).max() == 1:\n",
        "        matched_indices = np.stack(np.where(a), axis=1)\n",
        "    else:\n",
        "      matched_indices = linear_assignment(-iou_matrix)\n",
        "  else:\n",
        "    matched_indices = np.empty(shape=(0,2))\n",
        "\n",
        "  unmatched_detections = []\n",
        "  for d, det in enumerate(detections):\n",
        "    if(d not in matched_indices[:,0]):\n",
        "      unmatched_detections.append(d)\n",
        "  unmatched_trackers = []\n",
        "  for t, trk in enumerate(trackers):\n",
        "    if(t not in matched_indices[:,1]):\n",
        "      unmatched_trackers.append(t)\n",
        "\n",
        "  #filter out matched with low IOU\n",
        "  matches = []\n",
        "  for m in matched_indices:\n",
        "    if(iou_matrix[m[0], m[1]]<iou_threshold):\n",
        "      unmatched_detections.append(m[0])\n",
        "      unmatched_trackers.append(m[1])\n",
        "    else:\n",
        "      matches.append(m.reshape(1,2))\n",
        "  if(len(matches)==0):\n",
        "    matches = np.empty((0,2),dtype=int)\n",
        "  else:\n",
        "    matches = np.concatenate(matches,axis=0)\n",
        "\n",
        "  return matches, np.array(unmatched_detections), np.array(unmatched_trackers)\n",
        "\n",
        "\n",
        "class Sort(object):\n",
        "  def __init__(self, max_age=1, min_hits=2, iou_threshold=0.3):\n",
        "    \"\"\"\n",
        "    Sets key parameters for SORT\n",
        "    \"\"\"\n",
        "    self.max_age = max_age\n",
        "    self.min_hits = min_hits\n",
        "    self.iou_threshold = iou_threshold\n",
        "    self.trackers = []\n",
        "    self.frame_count = 0\n",
        "\n",
        "  def update(self, dets=np.empty((0, 5))):\n",
        "    \"\"\"\n",
        "    Params:\n",
        "      dets - a numpy array of detections in the format [[x1,y1,x2,y2,score],[x1,y1,x2,y2,score],...]\n",
        "    Requires: this method must be called once for each frame even with empty detections (use np.empty((0, 5)) for frames without detections).\n",
        "    Returns the a similar array, where the last column is the object ID.\n",
        "\n",
        "    NOTE: The number of objects returned may differ from the number of detections provided.\n",
        "    \"\"\"\n",
        "    self.frame_count += 1\n",
        "    # get predicted locations from existing trackers.\n",
        "    trks = np.zeros((len(self.trackers), 5))\n",
        "    to_del = []\n",
        "    ret = []\n",
        "    for t, trk in enumerate(trks):\n",
        "      pos = self.trackers[t].predict()[0]\n",
        "      trk[:] = [pos[0], pos[1], pos[2], pos[3], 0]\n",
        "      if np.any(np.isnan(pos)):\n",
        "        to_del.append(t)\n",
        "    trks = np.ma.compress_rows(np.ma.masked_invalid(trks))\n",
        "    for t in reversed(to_del):\n",
        "      self.trackers.pop(t)\n",
        "    matched, unmatched_dets, unmatched_trks = associate_detections_to_trackers(dets,trks, self.iou_threshold)\n",
        "\n",
        "    # update matched trackers with assigned detections\n",
        "    for m in matched:\n",
        "      self.trackers[m[1]].update(dets[m[0], :])\n",
        "\n",
        "    # create and initialise new trackers for unmatched detections\n",
        "    for i in unmatched_dets:\n",
        "        trk = KalmanBoxTracker(dets[i,:])\n",
        "        self.trackers.append(trk)\n",
        "    i = len(self.trackers)\n",
        "    for trk in reversed(self.trackers):\n",
        "        d = trk.get_state()[0]\n",
        "        if (trk.time_since_update < 1) and (trk.hit_streak >= self.min_hits or self.frame_count <= self.min_hits):\n",
        "          ret.append(np.concatenate((d,[trk.id+1])).reshape(1,-1)) # +1 as MOT benchmark requires positive\n",
        "        i -= 1\n",
        "        # remove dead tracklet\n",
        "        if(trk.time_since_update > self.max_age):\n",
        "          self.trackers.pop(i)\n",
        "    if(len(ret)>0):\n",
        "      return np.concatenate(ret)\n",
        "    return np.empty((0,5))"
      ],
      "execution_count": 7,
      "outputs": []
    },
    {
      "cell_type": "markdown",
      "metadata": {
        "id": "CM_GDmHR42Ev"
      },
      "source": [
        "#Konfiguracja inferencji detectrona2"
      ]
    },
    {
      "cell_type": "code",
      "metadata": {
        "id": "kKfJ_T6L41U_"
      },
      "source": [
        "cfg = get_cfg()\n",
        "\n",
        "# cfg.merge_from_file(model_zoo.get_config_file(\"COCO-Detection/faster_rcnn_R_50_FPN_3x.yaml\"))\n",
        "# cfg.DATALOADER.NUM_WORKERS = 2\n",
        "# cfg.MODEL.ROI_HEADS.NUM_CLASSES = 1 # ball class\n",
        "# cfg.MODEL.WEIGHTS = '/content/model_final_easy_fasterrcnn_resnet50.pth'\n",
        "# cfg.MODEL.ROI_HEADS.SCORE_THRESH_TEST = 0.3  # set the testing threshold for this model\n",
        "# predictor = DefaultPredictor(cfg)\n",
        "\n",
        "cfg = get_cfg()\n",
        "cfg.merge_from_file(model_zoo.get_config_file(\"COCO-Detection/faster_rcnn_R_50_FPN_3x.yaml\"))\n",
        "cfg.DATALOADER.NUM_WORKERS = 2\n",
        "cfg.MODEL.ROI_HEADS.NUM_CLASSES = 1 # ball class\n",
        "cfg.MODEL.WEIGHTS = '/content/model_final_difficult_easy_fasterrcnn_resnet50.pth'\n",
        "cfg.MODEL.ROI_HEADS.SCORE_THRESH_TEST = 0.3  # set the testing threshold for this model\n",
        "predictor = DefaultPredictor(cfg)\n",
        "\n",
        "# cfg = get_cfg()\n",
        "# cfg.merge_from_file(model_zoo.get_config_file(\"COCO-Detection/retinanet_R_50_FPN_3x.yaml\"))\n",
        "# cfg.MODEL.WEIGHTS = os.path.join(cfg.OUTPUT_DIR, \"/content/model_final_difficult_easy_retinanet_resnet50.pth\")\n",
        "# cfg.MODEL.RETINANET.SCORE_THRESH_TEST = 0.3  # set the testing threshold for this model\n",
        "# cfg.MODEL.RETINANET.NUM_CLASSES = 1\n",
        "# predictor = DefaultPredictor(cfg)\n"
      ],
      "execution_count": 8,
      "outputs": []
    },
    {
      "cell_type": "markdown",
      "metadata": {
        "id": "wVr6XDG0muVA"
      },
      "source": [
        "#Funkcja iterująca po klatkach klipu video w celu wizualizacji rezultatów"
      ]
    },
    {
      "cell_type": "code",
      "metadata": {
        "id": "q9xIxndvFiJD"
      },
      "source": [
        "def switch_to_bigbbox(pred_bbox,outputs,scores,bbox_size,make_big_bbox):\n",
        "  centers=[]; big_bboxes=[]; radiuses=[];\n",
        "  for i in range(outputs['instances'].pred_boxes.tensor.shape[0]):\n",
        "    center = [pred_bbox[i][0]+(pred_bbox[i][2]-pred_bbox[i][0])/2,\n",
        "              pred_bbox[i][1]+(pred_bbox[i][3]-pred_bbox[i][1])/2] \n",
        "    centers.append(center)\n",
        "    if make_big_bbox:\n",
        "      big_bbox = [center[0]-bbox_size/2,center[1]-bbox_size/2,center[0]+bbox_size/2,center[1]+bbox_size/2]\n",
        "    else:\n",
        "      big_bbox = pred_bbox[i]\n",
        "    big_bboxes.append(big_bbox)\n",
        "    radius = min(abs((pred_bbox[i][2]-pred_bbox[i][0])/2),abs((pred_bbox[i][3]-pred_bbox[i][1])/2))\n",
        "    radiuses.append(radius)\n",
        "    \n",
        "  if pred_bbox.size==0:\n",
        "    bbox_scores = np.empty((0,5))\n",
        "  else:\n",
        "    bbox_scores = np.append(big_bboxes, np.array([scores]).transpose(),axis=1)\n",
        "  \n",
        "  return bbox_scores, centers, radiuses   \n"
      ],
      "execution_count": 9,
      "outputs": []
    },
    {
      "cell_type": "code",
      "metadata": {
        "id": "oASKAq4H6oFg"
      },
      "source": [
        "def draw_bbox(frame,bbox,draw_current_bbox=True):\n",
        "  frame = cv2.rectangle(frame, (int(bbox[0]),int(bbox[1])),(int(bbox[2]),int(bbox[3])), (0,0,255), 2) # bbox predyktora\n",
        "  frame = cv2.putText(frame, str(round(bbox[4],2)),\n",
        "                    (int(bbox[0]+20), int(bbox[1]+20)),\n",
        "                    cv2.FONT_HERSHEY_SIMPLEX, 0.8, (255,0,0), 2)\n",
        "  return frame"
      ],
      "execution_count": 10,
      "outputs": []
    },
    {
      "cell_type": "code",
      "metadata": {
        "id": "5yjSjn8AHY6J"
      },
      "source": [
        "#tablica historii pozycji z 10 frameów\n",
        "def ball_position_history(frame,frame_array,track_bbs_ids,centers,radiuses):\n",
        "  frame_array = frame_array[1:10] #usuwamy tablice 10 frame'y temu\n",
        "  zeros = np.zeros((1,10,5))\n",
        "  frame_array = np.concatenate((frame_array,zeros)) #dodajemy pusty frame na koniec\n",
        "  for i in range(track_bbs_ids.shape[0]):\n",
        "    coord_x = track_bbs_ids[i][0]+(track_bbs_ids[i][2]-track_bbs_ids[i][0])/2\n",
        "    coord_y = track_bbs_ids[i][1]+(track_bbs_ids[i][3]-track_bbs_ids[i][1])/2\n",
        "    ball_id = track_bbs_ids[i][4]\n",
        "    frame = cv2.putText(frame, str(ball_id), (int(coord_x-20), int(coord_y-20)),\n",
        "                        cv2.FONT_HERSHEY_SIMPLEX, 0.8, (255,0,0), 2)\n",
        "    for center,radius in zip(centers,radiuses):\n",
        "      if (abs(coord_x - center[0])<20) and (abs(coord_y - center[1])<20):\n",
        "        frame_array[9][i] = [coord_x,coord_y,radius,0,ball_id]\n",
        "  return frame_array"
      ],
      "execution_count": 11,
      "outputs": []
    },
    {
      "cell_type": "code",
      "metadata": {
        "id": "2b1I4LsYIgvM"
      },
      "source": [
        "def draw_line_circle(frame,frame_array,draw_line=True,draw_circle=True):\n",
        "  end_points=[(0,0),(0,0),(0,0),(0,0),(0,0),(0,0),(0,0),(0,0),(0,0),(0,0)]\n",
        "  end_ids=[0,0,0,0,0,0,0,0,0,0]\n",
        "  for one_frame in frame_array:\n",
        "    start_points=end_points.copy()\n",
        "    start_ids=end_ids.copy()\n",
        "    for i,row in enumerate(one_frame):\n",
        "      if draw_circle:\n",
        "        cv2.circle(frame, (int(row[0]),int(row[1])), int(row[2]), (0,255,255), -1)\n",
        "      end_ids[i] = row[4]\n",
        "      end_points[i] = (int(row[0]),int(row[1]))\n",
        "      if draw_line:\n",
        "        if end_ids[i]!=0:\n",
        "          for id,start_point in zip(start_ids,start_points):\n",
        "            if id==end_ids[i]:\n",
        "              cv2.line(frame,start_point,end_points[i],(255,0,0),8)\n",
        "  return frame"
      ],
      "execution_count": 12,
      "outputs": []
    },
    {
      "cell_type": "code",
      "metadata": {
        "id": "5yyed-WRe1eF"
      },
      "source": [
        "def runOnVideo(video, maxFrames,make_big_bbox,draw_line,draw_circle,draw_current_bbox):\n",
        "    \n",
        "    readFrames = 0\n",
        "    count_sort=0\n",
        "    count_detectron=0\n",
        "    bbox_size = 400 # rozmiar \"oszukanego bboxa do pomocy przy sorcie\"\n",
        "    mot_tracker = Sort(max_age=3, min_hits=2, iou_threshold=0.3)\n",
        "    frame_array = np.zeros((10,10,5))\n",
        "    while True:\n",
        "        hasFrame, frame = video.read()\n",
        "        if not hasFrame:\n",
        "            break\n",
        "        outputs = predictor(frame)\n",
        "\n",
        "        if outputs['instances'].pred_boxes.tensor.shape[0]>0:\n",
        "          count_detectron+=1\n",
        "\n",
        "        pred_bbox = np.array(outputs['instances'].pred_boxes.tensor.cpu())\n",
        "        scores = np.array(outputs['instances'].scores.cpu())\n",
        "        bbox_scores, centers, radiuses = switch_to_bigbbox(pred_bbox,outputs,scores,bbox_size,make_big_bbox)\n",
        "\n",
        "        # apply SORT algo\n",
        "        track_bbs_ids = mot_tracker.update(bbox_scores)\n",
        "        if track_bbs_ids.size > 0:\n",
        "          count_sort+=1\n",
        "        if draw_current_bbox:\n",
        "          for bbox in bbox_scores:\n",
        "            draw_bbox(frame,bbox)\n",
        "\n",
        "        frame_array = ball_position_history(frame,frame_array,track_bbs_ids,centers,radiuses)\n",
        "        draw_line_circle(frame,frame_array,draw_line,draw_circle)\n",
        "\n",
        "        yield frame\n",
        "        readFrames += 1\n",
        "        if readFrames > maxFrames:\n",
        "          break\n",
        "\n",
        "    print('Ilość klatek z wykrycien z detectrona:{}, Ilość klatek z wykryciem z Sorta:{}'.format(count_detectron,count_sort))"
      ],
      "execution_count": 13,
      "outputs": []
    },
    {
      "cell_type": "code",
      "metadata": {
        "id": "pN-eO-8W2icZ"
      },
      "source": [
        "def writeVideo(video_name:str,video_output_name:str,make_big_bbox=True,draw_current_bbox=False,draw_line=True,draw_circle=False):\n",
        "  video = cv2.VideoCapture(video_name)\n",
        "  width = int(video.get(cv2.CAP_PROP_FRAME_WIDTH))\n",
        "  height = int(video.get(cv2.CAP_PROP_FRAME_HEIGHT))\n",
        "  frames_per_second = video.get(cv2.CAP_PROP_FPS)\n",
        "  num_frames = int(video.get(cv2.CAP_PROP_FRAME_COUNT))\n",
        "\n",
        "  # Initialize video writer\n",
        "  video_writer = cv2.VideoWriter(video_output_name, fourcc=cv2.VideoWriter_fourcc(*\"mp4v\"), fps=float(frames_per_second), frameSize=(width, height), isColor=True)\n",
        "  mot_tracker = Sort()\n",
        "\n",
        "  # # Inicjalizacja wizualizacji\n",
        "\n",
        "  num_frames = num_frames #do zmiany do debugowania\n",
        "  # for frame in tqdm.tqdm(runOnVideo(video, num_frames), total=num_frames):\n",
        "  for frame in tqdm.tqdm(runOnVideo(video, num_frames,make_big_bbox,draw_line,draw_circle,draw_current_bbox), total=num_frames):\n",
        "\n",
        "      # mot_tracker = Sort()\n",
        "      video_writer.write(frame)\n",
        "\n",
        "  video.release()\n",
        "  video_writer.release()\n",
        "  cv2.destroyAllWindows()\n"
      ],
      "execution_count": 14,
      "outputs": []
    },
    {
      "cell_type": "code",
      "metadata": {
        "id": "j2zGHwl_3-wr",
        "colab": {
          "base_uri": "https://localhost:8080/"
        },
        "outputId": "b96ac61c-4b20-475e-9d67-f84b81319f22"
      },
      "source": [
        "writeVideo('/content/video-clip1.mp4','video-output-sortbigbbox1-drawbbox.mp4',draw_current_bbox=True)\n",
        "writeVideo('/content/video-clip2.mp4','video-output-sortbigbbox2-drawbbox.mp4',draw_current_bbox=True)\n",
        "# writeVideo('/content/video-clip3.mp4','video-output-sortbigbbox3.mp4')\n",
        "# writeVideo('/content/video-clip4.mp4','video-output-sortbigbbox4.mp4')\n",
        "# writeVideo('/content/video-clip5.mp4','video-output-sortbigbbox5.mp4')"
      ],
      "execution_count": null,
      "outputs": [
        {
          "output_type": "stream",
          "name": "stderr",
          "text": [
            "\r  0%|          | 0/458 [00:00<?, ?it/s]/usr/local/lib/python3.7/dist-packages/torch/_tensor.py:575: UserWarning: floor_divide is deprecated, and will be removed in a future version of pytorch. It currently rounds toward 0 (like the 'trunc' function NOT 'floor'). This results in incorrect rounding for negative values.\n",
            "To keep the current behavior, use torch.div(a, b, rounding_mode='trunc'), or for actual floor division, use torch.div(a, b, rounding_mode='floor'). (Triggered internally at  ../aten/src/ATen/native/BinaryOps.cpp:467.)\n",
            "  return torch.floor_divide(self, other)\n",
            "100%|██████████| 458/458 [03:37<00:00,  2.11it/s]\n"
          ]
        },
        {
          "output_type": "stream",
          "name": "stdout",
          "text": [
            "Ilość klatek z wykrycien z detectrona:448, Ilość klatek z wykryciem z Sorta:434\n"
          ]
        },
        {
          "output_type": "stream",
          "name": "stderr",
          "text": [
            "100%|██████████| 300/300 [02:23<00:00,  2.09it/s]\n"
          ]
        },
        {
          "output_type": "stream",
          "name": "stdout",
          "text": [
            "Ilość klatek z wykrycien z detectrona:155, Ilość klatek z wykryciem z Sorta:126\n"
          ]
        },
        {
          "output_type": "stream",
          "name": "stderr",
          "text": [
            "100%|██████████| 1824/1824 [13:16<00:00,  2.29it/s]\n"
          ]
        },
        {
          "output_type": "stream",
          "name": "stdout",
          "text": [
            "Ilość klatek z wykrycien z detectrona:1274, Ilość klatek z wykryciem z Sorta:1150\n"
          ]
        },
        {
          "output_type": "stream",
          "name": "stderr",
          "text": [
            "100%|██████████| 1514/1514 [11:44<00:00,  2.15it/s]\n"
          ]
        },
        {
          "output_type": "stream",
          "name": "stdout",
          "text": [
            "Ilość klatek z wykrycien z detectrona:894, Ilość klatek z wykryciem z Sorta:745\n"
          ]
        },
        {
          "output_type": "stream",
          "name": "stderr",
          "text": [
            "100%|██████████| 2847/2847 [22:26<00:00,  2.12it/s]"
          ]
        },
        {
          "output_type": "stream",
          "name": "stdout",
          "text": [
            "Ilość klatek z wykrycien z detectrona:1555, Ilość klatek z wykryciem z Sorta:1318\n"
          ]
        },
        {
          "output_type": "stream",
          "name": "stderr",
          "text": [
            "\n"
          ]
        }
      ]
    },
    {
      "cell_type": "code",
      "metadata": {
        "colab": {
          "base_uri": "https://localhost:8080/"
        },
        "id": "xa3fx90Dv83P",
        "outputId": "95ae8aa7-de0a-49f3-a6ce-eaee8fbbc9bf"
      },
      "source": [
        "from google.colab import drive\n",
        "drive.mount('/content/drive')"
      ],
      "execution_count": 15,
      "outputs": [
        {
          "output_type": "stream",
          "name": "stdout",
          "text": [
            "Mounted at /content/drive\n"
          ]
        }
      ]
    },
    {
      "cell_type": "code",
      "metadata": {
        "colab": {
          "base_uri": "https://localhost:8080/"
        },
        "id": "gwrf_uzpvia3",
        "outputId": "d7713f5a-29a9-4126-c92d-5fb063772674"
      },
      "source": [
        "writeVideo('/content/video-clip1.mp4','video-output-sortbigbbox1-circle.mp4',draw_line=False,draw_circle=True)\n",
        "!mv '/content/video-output-sortbigbbox1-circle.mp4' \"/content/drive/MyDrive\"\n",
        "\n",
        "writeVideo('/content/video-clip2.mp4','video-output-sortbigbbox2-circle.mp4',draw_line=False,draw_circle=True)\n",
        "!mv '/content/video-output-sortbigbbox2-circle.mp4' \"/content/drive/MyDrive\"\n",
        "\n",
        "writeVideo('/content/video-clip3.mp4','video-output-sortbigbbox3-circle.mp4',draw_line=False,draw_circle=True)\n",
        "!mv '/content/video-output-sortbigbbox3-circle.mp4' \"/content/drive/MyDrive\"\n",
        "\n",
        "writeVideo('/content/video-clip4.mp4','video-output-sortbigbbox4-circle.mp4',draw_line=False,draw_circle=True)\n",
        "!mv '/content/video-output-sortbigbbox4-circle.mp4' \"/content/drive/MyDrive\"\n",
        "\n",
        "writeVideo('/content/video-clip5.mp4','video-output-sortbigbbox5-circle.mp4',draw_line=False,draw_circle=True)\n",
        "!mv '/content/video-output-sortbigbbox5-circle.mp4' \"/content/drive/MyDrive\"\n"
      ],
      "execution_count": 25,
      "outputs": [
        {
          "output_type": "stream",
          "name": "stderr",
          "text": [
            "\r  0%|          | 0/458 [00:00<?, ?it/s]/usr/local/lib/python3.7/dist-packages/torch/_tensor.py:575: UserWarning: floor_divide is deprecated, and will be removed in a future version of pytorch. It currently rounds toward 0 (like the 'trunc' function NOT 'floor'). This results in incorrect rounding for negative values.\n",
            "To keep the current behavior, use torch.div(a, b, rounding_mode='trunc'), or for actual floor division, use torch.div(a, b, rounding_mode='floor'). (Triggered internally at  ../aten/src/ATen/native/BinaryOps.cpp:467.)\n",
            "  return torch.floor_divide(self, other)\n",
            "100%|██████████| 458/458 [03:25<00:00,  2.23it/s]"
          ]
        },
        {
          "output_type": "stream",
          "name": "stdout",
          "text": [
            "Ilość klatek z wykrycien z detectrona:448, Ilość klatek z wykryciem z Sorta:434\n"
          ]
        },
        {
          "output_type": "stream",
          "name": "stderr",
          "text": [
            "\n",
            "100%|██████████| 300/300 [02:15<00:00,  2.21it/s]"
          ]
        },
        {
          "output_type": "stream",
          "name": "stdout",
          "text": [
            "Ilość klatek z wykrycien z detectrona:155, Ilość klatek z wykryciem z Sorta:126\n"
          ]
        },
        {
          "output_type": "stream",
          "name": "stderr",
          "text": [
            "\n",
            "100%|██████████| 1824/1824 [12:37<00:00,  2.41it/s]\n"
          ]
        },
        {
          "output_type": "stream",
          "name": "stdout",
          "text": [
            "Ilość klatek z wykrycien z detectrona:1274, Ilość klatek z wykryciem z Sorta:1150\n"
          ]
        },
        {
          "output_type": "stream",
          "name": "stderr",
          "text": [
            "100%|██████████| 1514/1514 [11:11<00:00,  2.25it/s]\n"
          ]
        },
        {
          "output_type": "stream",
          "name": "stdout",
          "text": [
            "Ilość klatek z wykrycien z detectrona:894, Ilość klatek z wykryciem z Sorta:745\n"
          ]
        },
        {
          "output_type": "stream",
          "name": "stderr",
          "text": [
            "100%|██████████| 2847/2847 [21:19<00:00,  2.23it/s]\n"
          ]
        },
        {
          "output_type": "stream",
          "name": "stdout",
          "text": [
            "Ilość klatek z wykrycien z detectrona:1555, Ilość klatek z wykryciem z Sorta:1318\n"
          ]
        }
      ]
    },
    {
      "cell_type": "code",
      "metadata": {
        "id": "6BAcgbZGREK-",
        "colab": {
          "base_uri": "https://localhost:8080/"
        },
        "outputId": "ad9cd952-12a8-4968-96f7-8037dcfe108b"
      },
      "source": [
        "writeVideo('/content/video-clip1.mp4','video-output-sort1.mp4',make_big_bbox=False,draw_current_bbox=True)\n",
        "!mv '/content/video-output-sort1.mp4' \"/content/drive/MyDrive\"\n",
        "writeVideo('/content/video-clip2.mp4','video-output-sort2.mp4',make_big_bbox=False,draw_current_bbox=True)\n",
        "!mv '/content/video-output-sort2.mp4' \"/content/drive/MyDrive\"\n",
        "# writeVideo('/content/video-clip3.mp4','video-output-sort3.mp4',make_big_bbox=False)\n",
        "# !mv '/content/video-output-sort3.mp4' \"/content/drive/MyDrive\"\n",
        "# writeVideo('/content/video-clip4.mp4','video-output-sort4.mp4',make_big_bbox=False)\n",
        "# !mv '/content/video-output-sort4.mp4' \"/content/drive/MyDrive\"\n",
        "# writeVideo('/content/video-clip5.mp4','video-output-sort5.mp4',make_big_bbox=False)\n",
        "# !mv '/content/video-output-sort5.mp4' \"/content/drive/MyDrive\""
      ],
      "execution_count": 16,
      "outputs": [
        {
          "output_type": "stream",
          "name": "stderr",
          "text": [
            "\r  0%|          | 0/458 [00:00<?, ?it/s]/usr/local/lib/python3.7/dist-packages/torch/_tensor.py:575: UserWarning: floor_divide is deprecated, and will be removed in a future version of pytorch. It currently rounds toward 0 (like the 'trunc' function NOT 'floor'). This results in incorrect rounding for negative values.\n",
            "To keep the current behavior, use torch.div(a, b, rounding_mode='trunc'), or for actual floor division, use torch.div(a, b, rounding_mode='floor'). (Triggered internally at  ../aten/src/ATen/native/BinaryOps.cpp:467.)\n",
            "  return torch.floor_divide(self, other)\n",
            "100%|██████████| 458/458 [03:36<00:00,  2.12it/s]"
          ]
        },
        {
          "output_type": "stream",
          "name": "stdout",
          "text": [
            "Ilość klatek z wykrycien z detectrona:448, Ilość klatek z wykryciem z Sorta:403\n"
          ]
        },
        {
          "output_type": "stream",
          "name": "stderr",
          "text": [
            "\n",
            "100%|██████████| 300/300 [02:19<00:00,  2.15it/s]"
          ]
        },
        {
          "output_type": "stream",
          "name": "stdout",
          "text": [
            "Ilość klatek z wykrycien z detectrona:155, Ilość klatek z wykryciem z Sorta:43\n"
          ]
        },
        {
          "output_type": "stream",
          "name": "stderr",
          "text": [
            "\n",
            "100%|██████████| 1824/1824 [13:03<00:00,  2.33it/s]\n"
          ]
        },
        {
          "output_type": "stream",
          "name": "stdout",
          "text": [
            "Ilość klatek z wykrycien z detectrona:1274, Ilość klatek z wykryciem z Sorta:475\n"
          ]
        },
        {
          "output_type": "stream",
          "name": "stderr",
          "text": [
            "100%|██████████| 1514/1514 [11:35<00:00,  2.18it/s]\n"
          ]
        },
        {
          "output_type": "stream",
          "name": "stdout",
          "text": [
            "Ilość klatek z wykrycien z detectrona:894, Ilość klatek z wykryciem z Sorta:342\n"
          ]
        },
        {
          "output_type": "stream",
          "name": "stderr",
          "text": [
            "100%|██████████| 2847/2847 [22:07<00:00,  2.15it/s]\n"
          ]
        },
        {
          "output_type": "stream",
          "name": "stdout",
          "text": [
            "Ilość klatek z wykrycien z detectrona:1555, Ilość klatek z wykryciem z Sorta:484\n"
          ]
        }
      ]
    }
  ]
}